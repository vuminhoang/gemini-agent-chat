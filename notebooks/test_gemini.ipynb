{
 "cells": [
  {
   "cell_type": "code",
   "id": "initial_id",
   "metadata": {
    "collapsed": true,
    "ExecuteTime": {
     "end_time": "2025-04-17T15:02:27.436507Z",
     "start_time": "2025-04-17T15:02:23.483628Z"
    }
   },
   "source": "import pandas as pd",
   "outputs": [],
   "execution_count": 1
  },
  {
   "metadata": {
    "ExecuteTime": {
     "end_time": "2025-04-17T15:19:19.563805Z",
     "start_time": "2025-04-17T15:19:08.348734Z"
    }
   },
   "cell_type": "code",
   "source": [
    "import tomli\n",
    "import os\n",
    "import google.generativeai as genai\n"
   ],
   "id": "72cc3d9e695da4b2",
   "outputs": [
    {
     "name": "stderr",
     "output_type": "stream",
     "text": [
      "C:\\Users\\CNTT\\Gemini-agent\\.venv\\lib\\site-packages\\tqdm\\auto.py:21: TqdmWarning: IProgress not found. Please update jupyter and ipywidgets. See https://ipywidgets.readthedocs.io/en/stable/user_install.html\n",
      "  from .autonotebook import tqdm as notebook_tqdm\n"
     ]
    }
   ],
   "execution_count": 13
  },
  {
   "metadata": {
    "ExecuteTime": {
     "end_time": "2025-04-17T15:19:24.619945Z",
     "start_time": "2025-04-17T15:19:24.588657Z"
    }
   },
   "cell_type": "code",
   "source": [
    "PROJECT_ROOT = os.path.abspath(os.path.join(os.getcwd(), \"..\"))\n",
    "toml_path = os.path.join(PROJECT_ROOT, \"services\", \"assistant\", \"configs\", \"dev.toml\")\n",
    "\n",
    "with open(toml_path, \"rb\") as f:\n",
    "    config = tomli.load(f)"
   ],
   "id": "53488c3a401e081b",
   "outputs": [],
   "execution_count": 14
  },
  {
   "metadata": {
    "ExecuteTime": {
     "end_time": "2025-04-17T15:19:26.367376Z",
     "start_time": "2025-04-17T15:19:26.336160Z"
    }
   },
   "cell_type": "code",
   "source": [
    "# load from toml file\n",
    "GEMINI_API_KEY = config[\"gemini\"][\"api_key\"]\n",
    "GEMINI_MODEL_NAME = config[\"gemini\"][\"model_name\"]"
   ],
   "id": "67f8f6a297dbbf91",
   "outputs": [],
   "execution_count": 15
  },
  {
   "metadata": {
    "ExecuteTime": {
     "end_time": "2025-04-17T15:20:08.217016Z",
     "start_time": "2025-04-17T15:20:08.201374Z"
    }
   },
   "cell_type": "code",
   "source": [
    "import os\n",
    "if GEMINI_API_KEY:\n",
    "    try:\n",
    "        genai.configure(api_key=GEMINI_API_KEY)\n",
    "        print(\"API Key đã được cấu hình.\")\n",
    "    except Exception as e:\n",
    "        print(f\"Lỗi cấu hình API Key: {e}\")\n",
    "        raise SystemExit(\"Không thể tiếp tục nếu không có API Key.\")\n",
    "else:\n",
    "    raise SystemExit(\"Chưa có API Key, không thể liệt kê models.\")"
   ],
   "id": "42b043f7a45fb8fa",
   "outputs": [
    {
     "name": "stdout",
     "output_type": "stream",
     "text": [
      "API Key đã được cấu hình.\n"
     ]
    }
   ],
   "execution_count": 17
  },
  {
   "metadata": {
    "ExecuteTime": {
     "end_time": "2025-04-17T15:21:12.794611Z",
     "start_time": "2025-04-17T15:21:12.779019Z"
    }
   },
   "cell_type": "code",
   "source": [
    "def chat_gemini_pro_1_5(user_text: str, system_prompt: str) -> str | None:\n",
    "\n",
    "    try:\n",
    "        model = genai.GenerativeModel(\n",
    "            model_name=GEMINI_MODEL_NAME,\n",
    "            system_instruction=system_prompt,\n",
    "        )\n",
    "\n",
    "        response = model.generate_content(user_text)\n",
    "\n",
    "        if response.parts:\n",
    "            return response.text\n",
    "        else:\n",
    "            print(\"⚠️ Phản hồi từ Gemini bị chặn.\")\n",
    "            print(f\"   Lý do chặn (Finish Reason): {response.candidates[0].finish_reason}\")\n",
    "            print(f\"   Thông tin phản hồi an toàn (Safety Ratings): {response.candidates[0].safety_ratings}\")\n",
    "            print(f\"   Thông tin phản hồi prompt (Prompt Feedback): {response.prompt_feedback}\")\n",
    "            return None\n",
    "\n",
    "    except Exception as e:\n",
    "        print(f\"❌ Đã xảy ra lỗi khi gọi Gemini API: {e}\")\n",
    "        return None\n"
   ],
   "id": "237238d2b3ffa76",
   "outputs": [],
   "execution_count": 18
  },
  {
   "metadata": {
    "ExecuteTime": {
     "end_time": "2025-04-17T15:22:18.000059Z",
     "start_time": "2025-04-17T15:22:16.209799Z"
    }
   },
   "cell_type": "code",
   "source": [
    "system_prompt = \"Bạn là một trợ lý ảo trong lĩnh vực thể thao\"\n",
    "user_question = \"Ronaldo có mấy quả póng vàng\"\n",
    "print(chat_gemini_pro_1_5(user_question, system_prompt))"
   ],
   "id": "512f4357aa135656",
   "outputs": [
    {
     "name": "stdout",
     "output_type": "stream",
     "text": [
      "Cristiano Ronaldo đã giành được 5 Quả bóng vàng (Ballon d'Or).\n",
      "\n"
     ]
    }
   ],
   "execution_count": 19
  }
 ],
 "metadata": {
  "kernelspec": {
   "display_name": "Python 3",
   "language": "python",
   "name": "python3"
  },
  "language_info": {
   "codemirror_mode": {
    "name": "ipython",
    "version": 2
   },
   "file_extension": ".py",
   "mimetype": "text/x-python",
   "name": "python",
   "nbconvert_exporter": "python",
   "pygments_lexer": "ipython2",
   "version": "2.7.6"
  }
 },
 "nbformat": 4,
 "nbformat_minor": 5
}
